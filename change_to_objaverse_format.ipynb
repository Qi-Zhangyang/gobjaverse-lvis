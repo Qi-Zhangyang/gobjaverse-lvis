{
 "cells": [
  {
   "cell_type": "markdown",
   "metadata": {},
   "source": [
    "# Change the correct gobjaverse-lvis dataset from gobjaverse format to objaverse format."
   ]
  },
  {
   "cell_type": "markdown",
   "metadata": {},
   "source": [
    "#### Step 1: change the 2nd and 1st level folder."
   ]
  },
  {
   "cell_type": "code",
   "execution_count": null,
   "metadata": {},
   "outputs": [],
   "source": [
    "import os\n",
    "import json\n",
    "import shutil\n",
    "import numpy as np\n",
    "\n",
    "# Change the 2nd-level folders.\n",
    "with open(\"annotations/280k_index_to_objaverse/gobjaverse_280k_index_to_objaverse.json\", \"r\") as json_file:\n",
    "    mapping = json.load(json_file)\n",
    "\n",
    "root_directory = 'The Download path.'\n",
    "\n",
    "for parent_folder_name in os.listdir(root_directory):\n",
    "    parent_folder_path = os.path.join(root_directory, parent_folder_name)\n",
    "    \n",
    "    if os.path.isdir(parent_folder_path):\n",
    "        for folder_name in os.listdir(parent_folder_path):\n",
    "            folder_path = os.path.join(parent_folder_path, folder_name)\n",
    "            \n",
    "            if os.path.isdir(folder_path):\n",
    "                new_folder_name = mapping.get(folder_path[14:], folder_name).split('/')[-1].split('.')[0]\n",
    "                new_folder_path = os.path.join(parent_folder_path, new_folder_name)\n",
    "                os.rename(folder_path, new_folder_path)\n",
    "\n",
    "# Change the 1st-level folders.\n",
    "folders = os.listdir(root_directory)\n",
    "\n",
    "for folder in folders:\n",
    "    if os.path.isdir(os.path.join(root_directory, folder)):\n",
    "        original_number = int(folder)\n",
    "        new_name = f\"000-{original_number:03d}\"\n",
    "        new_path = os.path.join(root_directory, new_name)\n",
    "        os.rename(os.path.join(root_directory, folder), new_path)"
   ]
  },
  {
   "cell_type": "markdown",
   "metadata": {},
   "source": [
    "#### Step 2: \n",
    "mkdir the pose and rgb\n",
    "move .jpg and .json. and remove number_filepath  "
   ]
  },
  {
   "cell_type": "code",
   "execution_count": null,
   "metadata": {},
   "outputs": [],
   "source": [
    "def mkdir_pose_and_rgb(root_directory):\n",
    "    for first_level in os.listdir(root_directory):\n",
    "        first_level_path = os.path.join(root_directory, first_level)\n",
    "        if os.path.isdir(first_level_path):\n",
    "            for second_level in os.listdir(first_level_path):\n",
    "                second_level_path = os.path.join(first_level_path, second_level)\n",
    "                if os.path.isdir(second_level_path):\n",
    "                    os.makedirs(os.path.join(second_level_path, 'pose'), exist_ok=True)\n",
    "                    os.makedirs(os.path.join(second_level_path, 'rgb'), exist_ok=True)\n",
    "\n",
    "\n",
    "\n",
    "def move_files(directory):\n",
    "    # Iterate through all files in the directory\n",
    "    for item in os.listdir(directory):\n",
    "        item_path = os.path.join(directory, item)\n",
    "        # Move .json files to the 'pose' folder\n",
    "        if item.endswith('.json'):\n",
    "            target_json_path = os.path.join(directory, '../pose')\n",
    "            shutil.move(item_path, target_json_path)\n",
    "        # Move .png files to the 'rgb' folder\n",
    "        elif item.endswith('.png'):\n",
    "            target_json_path = os.path.join(directory, '../rgb')\n",
    "            shutil.move(item_path, target_json_path)\n",
    "\n",
    "def move_and_delete(root_directory):\n",
    "    # Iterate through the first-level directories in the root directory\n",
    "    for first_level in os.listdir(root_directory):\n",
    "        first_level_path = os.path.join(root_directory, first_level)\n",
    "        if os.path.isdir(first_level_path):\n",
    "            # Iterate through the second-level directories in the first-level directory\n",
    "            for second_level in os.listdir(first_level_path):\n",
    "                second_level_path = os.path.join(first_level_path, second_level)\n",
    "                for j in range(40):\n",
    "                    number_filename = f\"{j:05}\"\n",
    "                    number_filepath = os.path.join(second_level_path, number_filename)\n",
    "                    move_files(number_filepath)\n",
    "                    shutil.rmtree(number_filepath)\n",
    "\n",
    "mkdir_pose_and_rgb(root_directory)\n",
    "move_and_delete(root_directory)\n"
   ]
  },
  {
   "cell_type": "markdown",
   "metadata": {},
   "source": [
    "#### Step 3:  5 numbers -> 3 numbers."
   ]
  },
  {
   "cell_type": "code",
   "execution_count": null,
   "metadata": {},
   "outputs": [],
   "source": [
    "def change_number(current_directory):\n",
    "    # Get the names of all folders in the current directory\n",
    "    jsons_path = os.path.join(current_directory, 'pose')\n",
    "    pngs_path = os.path.join(current_directory, 'rgb')\n",
    "    jsons = os.listdir(jsons_path)\n",
    "    pngs = os.listdir(pngs_path)\n",
    "\n",
    "    for json in jsons:\n",
    "        # Extract the numeric part from the filename, e.g., '00031' -> '31'\n",
    "        file_number = json.split('.')[0][2:]\n",
    "        png = json[:-4] + 'png'\n",
    "\n",
    "        # Rename the files\n",
    "        new_json = f\"{file_number}.json\"\n",
    "        new_png = f\"{file_number}.png\"\n",
    "\n",
    "        # Create new file paths\n",
    "        new_json_path = os.path.join(jsons_path, new_json)\n",
    "        old_json_path = os.path.join(jsons_path, json)\n",
    "\n",
    "        new_png_path = os.path.join(pngs_path, new_png)\n",
    "        old_png_path = os.path.join(pngs_path, png)\n",
    "\n",
    "        # Rename the files\n",
    "        os.rename(old_json_path, new_json_path)\n",
    "        os.rename(old_png_path, new_png_path)\n",
    "\n",
    "# Get the list of first-level folders\n",
    "first_folders = os.listdir(root_directory)\n",
    "\n",
    "# Iterate through each first-level folder\n",
    "for first_folder in first_folders:\n",
    "    first_folder_path = os.path.join(root_directory, first_folder)\n",
    "    second_folders = os.listdir(first_folder_path)\n",
    "    for second_folder in second_folders:\n",
    "        second_folder_path = os.path.join(first_folder_path, second_folder)\n",
    "        change_number(second_folder_path)"
   ]
  },
  {
   "cell_type": "markdown",
   "metadata": {},
   "source": [
    "#### Step 4: .json to .txt"
   ]
  },
  {
   "cell_type": "code",
   "execution_count": null,
   "metadata": {},
   "outputs": [],
   "source": [
    "error_paths = []\n",
    "\n",
    "def json_to_txt(json_path_wo_json):\n",
    "    try:\n",
    "        with open(json_path_wo_json + '.json', 'r') as json_file:\n",
    "            json_content = json.load(json_file)\n",
    "\n",
    "        camera_matrix = np.eye(4)\n",
    "        camera_matrix[:3, 0] = np.array(json_content['x'])\n",
    "        camera_matrix[:3, 1] = np.array(json_content['y'])\n",
    "        camera_matrix[:3, 2] = np.array(json_content['z'])\n",
    "        camera_matrix[:3, 3] = np.array(json_content['origin'])\n",
    "\n",
    "        pose_text = ' '.join(map(str, camera_matrix.flatten()))\n",
    "\n",
    "        with open(json_path_wo_json + '.txt', 'w') as txt_file:\n",
    "            txt_file.write(pose_text)\n",
    "        if os.path.exists(json_path_wo_json + '.json'):\n",
    "            os.remove(json_path_wo_json + '.json')\n",
    "\n",
    "    except Exception as e:\n",
    "        print(f\"Error processing file {json_path_wo_json}: {str(e)}\")\n",
    "        error_paths.append(json_path_wo_json)\n",
    "\n",
    "\n",
    "for first_level_dir in os.listdir(root_directory):\n",
    "    first_level_path = os.path.join(root_directory, first_level_dir)\n",
    "    if os.path.isdir(first_level_path):\n",
    "        \n",
    "        for second_level_dir in os.listdir(first_level_path):\n",
    "            second_level_path = os.path.join(first_level_path, second_level_dir, 'pose')\n",
    "            \n",
    "            for third_level_dir in os.listdir(second_level_path):\n",
    "                third_level_path = os.path.join(second_level_path, third_level_dir).split('.')[0]\n",
    "                json_to_txt(third_level_path)\n",
    "\n",
    "with open('error_log.json', 'w') as error_file:\n",
    "    json.dump(error_paths, error_file)\n"
   ]
  },
  {
   "cell_type": "markdown",
   "metadata": {},
   "source": [
    "#### Step 5: train.json and val.json"
   ]
  },
  {
   "cell_type": "code",
   "execution_count": null,
   "metadata": {},
   "outputs": [],
   "source": [
    "# Initialize an empty list to store all directory paths\n",
    "directory_list = []\n",
    "\n",
    "# Iterate through the first-level directories\n",
    "for first_level_dir in os.listdir(root_directory):\n",
    "    first_level_path = os.path.join(root_directory, first_level_dir)\n",
    "    \n",
    "    # Check if it is a directory\n",
    "    if os.path.isdir(first_level_path):\n",
    "        \n",
    "        # Iterate through the second-level directories\n",
    "        for second_level_dir in os.listdir(first_level_path):\n",
    "            second_level_path = os.path.join(first_level_path, second_level_dir)\n",
    "            \n",
    "            # Check if it is a directory\n",
    "            if os.path.isdir(second_level_path):\n",
    "                \n",
    "                # Append the path to the list\n",
    "                directory_list.append(os.path.join(first_level_dir, second_level_dir))\n",
    "\n",
    "# Save the list to a JSON file\n",
    "with open(os.path.join(root_directory, 'train.json'), 'w') as json_file:\n",
    "    json.dump(directory_list, json_file)"
   ]
  },
  {
   "cell_type": "markdown",
   "metadata": {},
   "source": [
    "Note that in this way, all objects are for training. In our settint, we only make objects in '000-159' are for validation and remaining is for training. You can download them in the hugging face."
   ]
  },
  {
   "cell_type": "code",
   "execution_count": null,
   "metadata": {},
   "outputs": [],
   "source": [
    "from huggingface_hub import hf_hub_download\n",
    "\n",
    "# train.json: 000-000 -> 000-158\n",
    "hf_hub_download(repo_id=\"alexzyqi/GPT4Point\", filename='train.json', repo_type=\"dataset\", local_dir=root_directory)\n",
    "\n",
    "# val.json: 000-159\n",
    "hf_hub_download(repo_id=\"alexzyqi/GPT4Point\", filename='val.json', repo_type=\"dataset\", local_dir=root_directory)"
   ]
  }
 ],
 "metadata": {
  "language_info": {
   "name": "python"
  },
  "orig_nbformat": 4
 },
 "nbformat": 4,
 "nbformat_minor": 2
}
